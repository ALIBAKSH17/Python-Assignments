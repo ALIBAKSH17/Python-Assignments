{
 "cells": [
  {
   "cell_type": "code",
   "execution_count": 17,
   "metadata": {},
   "outputs": [
    {
     "name": "stdout",
     "output_type": "stream",
     "text": [
      "ALI\n"
     ]
    }
   ],
   "source": [
    "#ALL ABOUT PHYTON PRATICE\n",
    "\n",
    "\n",
    "\n",
    "print(\"ALI\")\n"
   ]
  },
  {
   "cell_type": "code",
   "execution_count": null,
   "metadata": {},
   "outputs": [],
   "source": [
    "a=input(\"WHAT IS UR NAME\")"
   ]
  },
  {
   "cell_type": "code",
   "execution_count": null,
   "metadata": {},
   "outputs": [],
   "source": [
    "b = 23\n",
    "c = 56\n",
    "print(c+b)"
   ]
  },
  {
   "cell_type": "code",
   "execution_count": null,
   "metadata": {},
   "outputs": [],
   "source": [
    "a = 40\n",
    "u = 60\n",
    "b = u%a\n",
    "print(b)"
   ]
  },
  {
   "cell_type": "code",
   "execution_count": null,
   "metadata": {},
   "outputs": [],
   "source": [
    "age=90\n",
    "age+=1\n",
    "print(age)"
   ]
  },
  {
   "cell_type": "code",
   "execution_count": 11,
   "metadata": {},
   "outputs": [
    {
     "name": "stdout",
     "output_type": "stream",
     "text": [
      "--------------------------------------------------------------------\n",
      "-----------------------------MARKSHEET------------------------------\n",
      "ENTER YOUR NAME: ALI BAKSH\n",
      "ENTER YOUR FATHER NAME: ALLAH BAKSH\n",
      "ENTER YOUR ROLL NO: 09876\n",
      "ENTER YOUR MATHS MARKS: 89\n",
      "ENTER YOUR ENGLISH MARKS: 90\n",
      "ENTER YOUR URDU MARKS: 78\n",
      "ENTER YOUR PHYSICS MARKS: 97\n",
      "ENTER YOUR COMPUTER MARKS: 69\n",
      "---------------------------------------------------------\n",
      "\n",
      "YOUR GRADE IS A\n",
      "YOUR PERCENTAGE is: 84.6 %\n"
     ]
    }
   ],
   "source": [
    "#MARKSHEET OF 10TH STUDENTS\n",
    "\n",
    "\n",
    "\n",
    "print(\"--------------------------------------------------------------------\")\n",
    "print(\"-----------------------------MARKSHEET------------------------------\")\n",
    "name = str(input(\"ENTER YOUR NAME: \"))\n",
    "fat = str(input('ENTER YOUR FATHER NAME: '))\n",
    "roll_no = int(input(\"ENTER YOUR ROLL NO: \"))\n",
    "mat = float(input(\"ENTER YOUR MATHS MARKS: \"))\n",
    "eng = float(input(\"ENTER YOUR ENGLISH MARKS: \"))\n",
    "urdu = float(input(\"ENTER YOUR URDU MARKS: \"))\n",
    "phy = float(input(\"ENTER YOUR PHYSICS MARKS: \"))\n",
    "comp = float(input(\"ENTER YOUR COMPUTER MARKS: \"))\n",
    "print(\"---------------------------------------------------------\")\n",
    "print()\n",
    "\n",
    "obt = mat+eng+urdu+phy+comp\n",
    "per=(obt/500)*100\n",
    "if (per>=90 and per<=100):\n",
    "        print(\"YOUR GRADE IS A+\")\n",
    "        print(\"YOUR PERCENTAGE is:\",per,\"%\")\n",
    "        print(\"YOUR OBTAINED MARKS: \",obt)\n",
    "        \n",
    "elif (per>=80 and per<90):\n",
    "        print(\"YOUR GRADE IS A\")\n",
    "        print(\"YOUR PERCENTAGE is:\",per,\"%\")\n",
    "        \n",
    "elif (per>=70 and per<80):\n",
    "        print(\"YOUR GRADE IS B\")\n",
    "        print(\"YOUR PERCENTAGE is:\",per,\"%\")\n",
    "        \n",
    "elif (per>=60 and per<70):\n",
    "        print(\"YOUR GRADE IS c\")\n",
    "        print(\"YOUR PERCENTAGE is:\",per,\"%\")\n",
    "        \n",
    "elif (per>=50 and per<60):\n",
    "        print(\"YOUR GRADE IS d\")\n",
    "         print(\"YOUR PERCENTAGE is:\",per,\"%\")\n"
   ]
  },
  {
   "cell_type": "code",
   "execution_count": 20,
   "metadata": {},
   "outputs": [
    {
     "name": "stdout",
     "output_type": "stream",
     "text": [
      "['dgdggd', 'djhdjhdjdj', 'djdjdjhjd', 8989]\n",
      "djdjdjhjd\n",
      "['dgdggd', 'djhdjhdjdj', 'djdjdjhjd', 8989, 'fgbfb']\n",
      "['dgdggd', 'djhdjhdjdj', 'gfgfg', 'djdjdjhjd', 8989, 'fgbfb']\n",
      "['dgdggd', 'djhdjhdjdj', 'gfgfg', 'djdjdjhjd', 8989]\n"
     ]
    }
   ],
   "source": [
    "#list\n",
    "citiies=[\"dgdggd\",\"djhdjhdjdj\",\"djdjdjhjd\",8989]\n",
    "print(citiies)\n",
    "print(citiies[2])\n",
    "citiies.append(\"fgbfb\")\n",
    "print(citiies)\n",
    "citiies.insert(2,\"gfgfg\")\n",
    "print(citiies)\n",
    "ccitiies=citiies[:5]\n",
    "print(citiies[:5])\n"
   ]
  },
  {
   "cell_type": "code",
   "execution_count": 7,
   "metadata": {},
   "outputs": [
    {
     "name": "stdout",
     "output_type": "stream",
     "text": [
      "[7, 4, 7, 8, 5, 'mmm']\n",
      "[7, 4, 7, 8, 5]\n",
      "[4, 7, 8, 5]\n"
     ]
    },
    {
     "data": {
      "text/plain": [
       "4"
      ]
     },
     "execution_count": 7,
     "metadata": {},
     "output_type": "execute_result"
    }
   ],
   "source": [
    "ali = [7, 4, 7, 8, 5, \"mmm\"]\n",
    "print(ali)\n",
    "ali.remove(\"mmm\")\n",
    "print(ali)\n",
    "del ali[0]\n",
    "print(ali)\n",
    "type(ali)\n",
    "len(ali)"
   ]
  },
  {
   "cell_type": "code",
   "execution_count": 12,
   "metadata": {},
   "outputs": [
    {
     "name": "stdout",
     "output_type": "stream",
     "text": [
      "[2, 3, 4, 6, 7, 8, 9, 0]\n",
      "[7, 2, 6, 8, 77]\n"
     ]
    }
   ],
   "source": [
    "#popiing\n",
    "p = [1,2,3,4,5,6,7,8,9,0]\n",
    "p.pop(4)\n",
    "o = p.pop(0)\n",
    "print(p)\n",
    "u = [p.pop(4), p.pop(0), 6, 8, 77]\n",
    "print(u)\n"
   ]
  },
  {
   "cell_type": "code",
   "execution_count": 16,
   "metadata": {},
   "outputs": [
    {
     "name": "stdout",
     "output_type": "stream",
     "text": [
      "('Karachi', 'LAHORE', 'QUETTA', 'ISLAMABAD', 'PESHWAR')\n"
     ]
    }
   ],
   "source": [
    "#tuples\n",
    "pak = (\"Karachi\", \"LAHORE\", \"QUETTA\", \"ISLAMABAD\", \"PESHWAR\")\n",
    "type(pak)\n",
    "print(pak)"
   ]
  },
  {
   "cell_type": "code",
   "execution_count": 12,
   "metadata": {},
   "outputs": [
    {
     "name": "stdout",
     "output_type": "stream",
     "text": [
      "['ALI BAKSH', 'ALI LAL', 'ALI RR', 'ALI RAJU', 'ABBAS BAKSH', 'ABBAS LAL', 'ABBAS RR', 'ABBAS RAJU', 'SAGEER BAKSH', 'SAGEER LAL', 'SAGEER RR', 'SAGEER RAJU', 'ANEES BAKSH', 'ANEES LAL', 'ANEES RR', 'ANEES RAJU']\n",
      "yyjypppppy\n"
     ]
    }
   ],
   "source": [
    "#for loop\n",
    "\n",
    "''''name = \"ali\"\n",
    "nam = [\"abbas\",\"noor\", \"kabeer\", \"sageer\", \"ali\", \"rehmat\"]\n",
    "for n in nam:\n",
    "    if name==n:\n",
    "        print(\"ALI IS HERE\")'''\n",
    "\n",
    "#Nested for loop\n",
    "name = [\"ALI\",\"ABBAS\", \"SAGEER\", \"ANEES\"]\n",
    "f_name = [\"BAKSH\", \"LAL\",\"RR\",\"RAJU\"]\n",
    "full_name = []\n",
    "\n",
    "\n",
    "for fi_name in name:\n",
    "    for l_name in f_name:\n",
    "        full_name.append(fi_name+\" \"+l_name)\n",
    "     \n",
    "        \n",
    "print(full_name)\n",
    "\n",
    "name = \"yyjyPPPPPy\"\n",
    "\n",
    "print(name.lower())\n",
    "\n",
    "\n",
    "\n",
    "\n",
    "\n",
    "\n",
    "\n",
    "\n",
    "\n",
    "\n",
    "\n",
    "\n",
    "\n",
    "\n",
    "\n",
    "\n",
    "\n",
    "\n",
    "\n",
    "\n",
    "\n",
    "\n",
    "\n",
    "\n",
    "\n",
    "\n",
    "\n",
    "\n",
    "\n"
   ]
  },
  {
   "cell_type": "code",
   "execution_count": null,
   "metadata": {},
   "outputs": [],
   "source": []
  },
  {
   "cell_type": "code",
   "execution_count": null,
   "metadata": {},
   "outputs": [],
   "source": []
  }
 ],
 "metadata": {
  "kernelspec": {
   "display_name": "Python 3",
   "language": "python",
   "name": "python3"
  }
 },
 "nbformat": 4,
 "nbformat_minor": 2
}
